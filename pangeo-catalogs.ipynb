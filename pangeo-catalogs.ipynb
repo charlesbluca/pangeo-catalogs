{
 "cells": [
  {
   "cell_type": "markdown",
   "metadata": {
    "slideshow": {
     "slide_type": "slide"
    }
   },
   "source": [
    "Pangeo & Data Catalogs\n",
    "====================\n",
    "An exploration of the cataloging approaches used by Pangeo along with instructions on how to use them."
   ]
  },
  {
   "cell_type": "markdown",
   "metadata": {
    "slideshow": {
     "slide_type": "subslide"
    }
   },
   "source": [
    "### What approaches are there currently?\n",
    "Pangeo currently offers two primary approaches to data cataloging:\n",
    "- Intake, a lightweight YAML-based Python package\n",
    "- ESMCol, a collection specification method for large homogeneous data"
   ]
  },
  {
   "cell_type": "markdown",
   "metadata": {
    "slideshow": {
     "slide_type": "slide"
    }
   },
   "source": [
    "## Intake Data Catalogs\n",
    "\n",
    "<img src=\"https://intake.readthedocs.io/en/latest/_static/images/logo.png\" align=\"right\" width=20% alt=\"Dask Logo\">\n",
    "\n",
    "Intake allows us to load in YAML-based catalogs with specified metadata describing how to open the data files they point to.\n",
    "\n",
    "This allows us to move from individual entries in an Intake catalog to data in xarray with one method:"
   ]
  },
  {
   "cell_type": "code",
   "execution_count": 5,
   "metadata": {
    "cell_style": "split",
    "scrolled": true,
    "slideshow": {
     "slide_type": "fragment"
    }
   },
   "outputs": [
    {
     "data": {
      "text/plain": [
       "['gmet_v1',\n",
       " 'trmm_3b42rt',\n",
       " 'sam_ngaqua_qobs_eqx_3d',\n",
       " 'sam_ngaqua_qobs_eqx_2d',\n",
       " 'gpcp_cdr_daily_v1_3',\n",
       " 'wrf50_erai']"
      ]
     },
     "metadata": {},
     "output_type": "display_data"
    },
    {
     "data": {
      "text/plain": [
       "{'name': 'gmet_v1',\n",
       " 'container': 'xarray',\n",
       " 'plugin': ['zarr'],\n",
       " 'description': 'Full GMET version 1 (Newman) met ensemble in zarr format',\n",
       " 'direct_access': 'forbid',\n",
       " 'user_parameters': [],\n",
       " 'metadata': {},\n",
       " 'args': {'storage_options': {'project': 'pangeo-181919',\n",
       "   'token': 'anon',\n",
       "   'access': 'read_only'},\n",
       "  'urlpath': 'gcs://pangeo-data/gmet_v1.zarr',\n",
       "  'consolidated': True}}"
      ]
     },
     "metadata": {},
     "output_type": "display_data"
    }
   ],
   "source": [
    "import intake\n",
    "\n",
    "url = \"https://raw.githubusercontent.com/pangeo-data/pangeo-datastore/master/intake-catalogs/atmosphere.yaml\"\n",
    "\n",
    "cat = intake.open_catalog(url)\n",
    "display(list(cat))\n",
    "\n",
    "display(cat['gmet_v1'].describe())"
   ]
  },
  {
   "cell_type": "code",
   "execution_count": null,
   "metadata": {
    "cell_style": "split",
    "slideshow": {
     "slide_type": "fragment"
    }
   },
   "outputs": [],
   "source": [
    "cat['gmet_v1'].to_dask()"
   ]
  },
  {
   "cell_type": "markdown",
   "metadata": {
    "slideshow": {
     "slide_type": "subslide"
    }
   },
   "source": [
    "### Searching & filtering Intake catalogs\n",
    "Entries in an Intake catalog can be filtered using either Intake's `search` or `gui`:"
   ]
  },
  {
   "cell_type": "code",
   "execution_count": null,
   "metadata": {
    "cell_style": "split",
    "slideshow": {
     "slide_type": "fragment"
    }
   },
   "outputs": [],
   "source": [
    "search = cat.search(\"sam\")\n",
    "display(list(search))"
   ]
  },
  {
   "cell_type": "code",
   "execution_count": null,
   "metadata": {
    "cell_style": "split",
    "slideshow": {
     "slide_type": "fragment"
    }
   },
   "outputs": [],
   "source": [
    "cat.gui"
   ]
  },
  {
   "cell_type": "code",
   "execution_count": 14,
   "metadata": {
    "cell_style": "split",
    "slideshow": {
     "slide_type": "fragment"
    }
   },
   "outputs": [
    {
     "data": {
      "text/plain": [
       "<xarray.Dataset>\n",
       "Dimensions:        (lat: 480, lon: 1440, time: 41320)\n",
       "Coordinates:\n",
       "  * lat            (lat) float64 59.88 59.62 59.38 ... -59.38 -59.62 -59.88\n",
       "  * lon            (lon) float64 0.125 0.375 0.625 0.875 ... 359.4 359.6 359.9\n",
       "  * time           (time) datetime64[ns] 2000-03-01T12:00:00 ... 2014-04-22T09:00:00\n",
       "Data variables:\n",
       "    precipitation  (time, lat, lon) float32 dask.array<shape=(41320, 480, 1440), chunksize=(40, 480, 1440)>"
      ]
     },
     "execution_count": 14,
     "metadata": {},
     "output_type": "execute_result"
    }
   ],
   "source": [
    "cat.gui.sources[0].to_dask()"
   ]
  },
  {
   "cell_type": "markdown",
   "metadata": {
    "slideshow": {
     "slide_type": "slide"
    }
   },
   "source": [
    "## ESM Collection Specification\n",
    "\n",
    "The Earth System Model Collection Specification (ESMCol) describes a way of cataloging large datasets with a homogeneous metadata structure, such as those produced by the Coupled Model Intercomparison Project of the World Climate Research Programme.\n",
    "\n",
    "ESMCol will serve as the primary cataloging approach for the NCAR CMIP6 Hackathon, and through it CMIP6 data can be accessed directly from a Jupyter environment, or viewed from a higher level through Pangeo's Cloud Data Catalog.\n",
    "\n",
    "ESMCol consists of three parts:"
   ]
  },
  {
   "cell_type": "markdown",
   "metadata": {
    "slideshow": {
     "slide_type": "subslide"
    }
   },
   "source": [
    "### Collection\n",
    "A single JSON file, containing *homogeneous* metadata pertaining to a catalog of data along with a path to access it. \n",
    "This metadata may include information on how to interpret the data as well as how it is encoded:"
   ]
  },
  {
   "cell_type": "raw",
   "metadata": {
    "slideshow": {
     "slide_type": "fragment"
    }
   },
   "source": [
    "{\n",
    "  \"esmcat_version\": \"0.1.0\",\n",
    "  \"id\": \"sample\",\n",
    "  \"description\": \"This is a very basic sample ESM collection.\",\n",
    "  \"catalog_file\": \"sample_catalog.csv\",\n",
    "  \"attributes\": [\n",
    "    {\n",
    "      \"column_name\": \"activity_id\",\n",
    "      \"vocabulary\": \"https://raw.githubusercontent.com/WCRP-CMIP/CMIP6_CVs/master/CMIP6_activity_id.json\"\n",
    "    },\n",
    "    {\n",
    "      \"column_name\": \"source_id\",\n",
    "      \"vocabulary\": \"https://raw.githubusercontent.com/WCRP-CMIP/CMIP6_CVs/master/CMIP6_source_id.json\"\n",
    "    }\n",
    "  ],\n",
    "  \"assets\": {\n",
    "    \"column_name\": \"path\",\n",
    "    \"format\": \"zarr\"\n",
    "  }\n",
    "}"
   ]
  },
  {
   "cell_type": "markdown",
   "metadata": {
    "slideshow": {
     "slide_type": "subslide"
    }
   },
   "source": [
    "### Catalog\n",
    "The singular catalog which the collection points to is a CSV file, containing rows representing individual datasets:\n",
    "\n",
    "|activity_id|source_id|path|\n",
    "|-| -| -|\n",
    "|CMIP|ACCESS-CM2|gs://pangeo-data/store1.zarr|\n",
    "|CMIP| GISS-E2-1-G|gs://pangeo-data/store1.zarr|"
   ]
  },
  {
   "cell_type": "markdown",
   "metadata": {
    "slideshow": {
     "slide_type": "subslide"
    }
   },
   "source": [
    "### Assets\n",
    "Ultimately, each row of the catalog will have a path pointing to some data file, the location of which has been specified in the collection.\n",
    "For this hackathon, these data files will be either netCDF or zarr."
   ]
  },
  {
   "cell_type": "markdown",
   "metadata": {
    "slideshow": {
     "slide_type": "slide"
    }
   },
   "source": [
    "## Using ESMCol in Jupyter\n",
    "With the path to an ESMCol catalog, we can use `pandas.read_csv` to generate a DataFrame using the CSV file:"
   ]
  },
  {
   "cell_type": "code",
   "execution_count": 16,
   "metadata": {
    "cell_style": "split",
    "slideshow": {
     "slide_type": "fragment"
    }
   },
   "outputs": [
    {
     "data": {
      "text/html": [
       "<div>\n",
       "<style scoped>\n",
       "    .dataframe tbody tr th:only-of-type {\n",
       "        vertical-align: middle;\n",
       "    }\n",
       "\n",
       "    .dataframe tbody tr th {\n",
       "        vertical-align: top;\n",
       "    }\n",
       "\n",
       "    .dataframe thead th {\n",
       "        text-align: right;\n",
       "    }\n",
       "</style>\n",
       "<table border=\"1\" class=\"dataframe\">\n",
       "  <thead>\n",
       "    <tr style=\"text-align: right;\">\n",
       "      <th></th>\n",
       "      <th>activity_id</th>\n",
       "      <th>institution_id</th>\n",
       "      <th>source_id</th>\n",
       "      <th>experiment_id</th>\n",
       "      <th>member_id</th>\n",
       "      <th>table_id</th>\n",
       "      <th>variable_id</th>\n",
       "      <th>grid_label</th>\n",
       "      <th>zstore</th>\n",
       "      <th>dcpp_init_year</th>\n",
       "    </tr>\n",
       "  </thead>\n",
       "  <tbody>\n",
       "    <tr>\n",
       "      <th>0</th>\n",
       "      <td>AerChemMIP</td>\n",
       "      <td>BCC</td>\n",
       "      <td>BCC-ESM1</td>\n",
       "      <td>ssp370</td>\n",
       "      <td>r1i1p1f1</td>\n",
       "      <td>Amon</td>\n",
       "      <td>pr</td>\n",
       "      <td>gn</td>\n",
       "      <td>gs://cmip6/AerChemMIP/BCC/BCC-ESM1/ssp370/r1i1...</td>\n",
       "      <td>NaN</td>\n",
       "    </tr>\n",
       "    <tr>\n",
       "      <th>1</th>\n",
       "      <td>AerChemMIP</td>\n",
       "      <td>BCC</td>\n",
       "      <td>BCC-ESM1</td>\n",
       "      <td>ssp370</td>\n",
       "      <td>r1i1p1f1</td>\n",
       "      <td>Amon</td>\n",
       "      <td>prsn</td>\n",
       "      <td>gn</td>\n",
       "      <td>gs://cmip6/AerChemMIP/BCC/BCC-ESM1/ssp370/r1i1...</td>\n",
       "      <td>NaN</td>\n",
       "    </tr>\n",
       "    <tr>\n",
       "      <th>2</th>\n",
       "      <td>AerChemMIP</td>\n",
       "      <td>BCC</td>\n",
       "      <td>BCC-ESM1</td>\n",
       "      <td>ssp370</td>\n",
       "      <td>r1i1p1f1</td>\n",
       "      <td>Amon</td>\n",
       "      <td>tas</td>\n",
       "      <td>gn</td>\n",
       "      <td>gs://cmip6/AerChemMIP/BCC/BCC-ESM1/ssp370/r1i1...</td>\n",
       "      <td>NaN</td>\n",
       "    </tr>\n",
       "    <tr>\n",
       "      <th>3</th>\n",
       "      <td>AerChemMIP</td>\n",
       "      <td>BCC</td>\n",
       "      <td>BCC-ESM1</td>\n",
       "      <td>ssp370</td>\n",
       "      <td>r1i1p1f1</td>\n",
       "      <td>Amon</td>\n",
       "      <td>tasmax</td>\n",
       "      <td>gn</td>\n",
       "      <td>gs://cmip6/AerChemMIP/BCC/BCC-ESM1/ssp370/r1i1...</td>\n",
       "      <td>NaN</td>\n",
       "    </tr>\n",
       "    <tr>\n",
       "      <th>4</th>\n",
       "      <td>AerChemMIP</td>\n",
       "      <td>BCC</td>\n",
       "      <td>BCC-ESM1</td>\n",
       "      <td>ssp370</td>\n",
       "      <td>r1i1p1f1</td>\n",
       "      <td>Amon</td>\n",
       "      <td>tasmin</td>\n",
       "      <td>gn</td>\n",
       "      <td>gs://cmip6/AerChemMIP/BCC/BCC-ESM1/ssp370/r1i1...</td>\n",
       "      <td>NaN</td>\n",
       "    </tr>\n",
       "  </tbody>\n",
       "</table>\n",
       "</div>"
      ],
      "text/plain": [
       "  activity_id institution_id source_id experiment_id member_id table_id  \\\n",
       "0  AerChemMIP            BCC  BCC-ESM1        ssp370  r1i1p1f1     Amon   \n",
       "1  AerChemMIP            BCC  BCC-ESM1        ssp370  r1i1p1f1     Amon   \n",
       "2  AerChemMIP            BCC  BCC-ESM1        ssp370  r1i1p1f1     Amon   \n",
       "3  AerChemMIP            BCC  BCC-ESM1        ssp370  r1i1p1f1     Amon   \n",
       "4  AerChemMIP            BCC  BCC-ESM1        ssp370  r1i1p1f1     Amon   \n",
       "\n",
       "  variable_id grid_label                                             zstore  \\\n",
       "0          pr         gn  gs://cmip6/AerChemMIP/BCC/BCC-ESM1/ssp370/r1i1...   \n",
       "1        prsn         gn  gs://cmip6/AerChemMIP/BCC/BCC-ESM1/ssp370/r1i1...   \n",
       "2         tas         gn  gs://cmip6/AerChemMIP/BCC/BCC-ESM1/ssp370/r1i1...   \n",
       "3      tasmax         gn  gs://cmip6/AerChemMIP/BCC/BCC-ESM1/ssp370/r1i1...   \n",
       "4      tasmin         gn  gs://cmip6/AerChemMIP/BCC/BCC-ESM1/ssp370/r1i1...   \n",
       "\n",
       "   dcpp_init_year  \n",
       "0             NaN  \n",
       "1             NaN  \n",
       "2             NaN  \n",
       "3             NaN  \n",
       "4             NaN  "
      ]
     },
     "execution_count": 16,
     "metadata": {},
     "output_type": "execute_result"
    }
   ],
   "source": [
    "import pandas as pd\n",
    "\n",
    "df = pd.read_csv(\"https://storage.googleapis.com/pangeo-cmip6/pangeo-cmip6-zarr-consolidated-stores.csv\")\n",
    "df.head()"
   ]
  },
  {
   "cell_type": "code",
   "execution_count": 2,
   "metadata": {
    "cell_style": "split",
    "slideshow": {
     "slide_type": "fragment"
    }
   },
   "outputs": [
    {
     "data": {
      "text/plain": [
       "(array(['BCC', 'CCCma', 'CNRM-CERFACS', 'MOHC', 'NASA-GISS', 'NCAR',\n",
       "        'NOAA-GFDL', 'AWI', 'CAMS', 'CAS', 'E3SM-Project',\n",
       "        'EC-Earth-Consortium', 'FIO-QLNM', 'IPSL', 'MIROC', 'MRI', 'NCC',\n",
       "        'NUIST', 'SNU', 'UA', 'CMCC', 'ECMWF', 'DKRZ'], dtype=object),\n",
       " array(['pr', 'prsn', 'tas', 'tasmax', 'tasmin', 'ts', 'ua', 'va', 'cLeaf',\n",
       "        'cVeg', 'gpp', 'lai', 'npp', 'ra', 'tran', 'chl', 'detoc',\n",
       "        'diftrblo', 'difvho', 'difvso', 'dissic', 'dissicabio',\n",
       "        'dissicnat', 'fgco2', 'fgco2abio', 'fgco2nat', 'no3', 'o2', 'phyc',\n",
       "        'phyn', 'pon', 'talk', 'zooc', 'nbp', 'fgo2', 'hfds', 'sos', 'tos',\n",
       "        'calc', 'dfe', 'dissoc', 'expc', 'expn', 'expp', 'expsi', 'graz',\n",
       "        'nh4', 'ph', 'phydiat', 'phydiaz', 'phypico', 'pnitrate', 'po4',\n",
       "        'pp', 'remoc', 'si', 'hus', 'psl', 'ta', 'zg', 'mlotst', 'so',\n",
       "        'tauuo', 'tauvo', 'thetao', 'thetaoga', 'uo', 'vo', 'volo', 'wo',\n",
       "        'zos', 'sithick', 'huss', 'rlds', 'rlus', 'hfls', 'uas', 'vas',\n",
       "        'ps', 'ch4', 'clt', 'co2', 'evspsbl', 'hfss', 'hurs', 'o3', 'prw',\n",
       "        'rlut', 'rlutcs', 'rsds', 'rsdt', 'rsus', 'rsut', 'rsutcs', 'tauu',\n",
       "        'tauv', 'snc', 'snw', 'cLitterAbove', 'cLitterBelow', 'cRoot',\n",
       "        'cSoilFast', 'cSoilMedium', 'cSoilSlow', 'mrro', 'mrros', 'mrso',\n",
       "        'mrsos', 'rh', 'tsl', 'masscello', 'masso', 'thkcello', 'umo',\n",
       "        'vmo', 'zostoga', 'hur', 'prc', 'sfcWind', 'wap', 'siconc',\n",
       "        'siconca', 'agessc', 'areacello', 'deptho', 'sftof', 'epc100',\n",
       "        'epcalc100', 'msftmz', 'msftmzmpa', 'obvfsq', 'spco2', 'areacella',\n",
       "        'orog', 'sftgif', 'sftlf', 'bigthetao', 'basin', 'hfy', 'mfo',\n",
       "        'hursmax', 'hursmin', 'sfcWindmax', 'bfe', 'bsi', 'chldiat',\n",
       "        'chlmisc', 'burntFractionAll', 'cProduct', 'dpco2', 'intdic',\n",
       "        'intpp', 'expfe', 'pbfe', 'pbsi', 'pcalc', 'phyfe', 'physi',\n",
       "        'ppdiat', 'ppmisc', 'co3', 'zg1000', 'diftrelo', 'fescav', 'phos',\n",
       "        'volcello', 'o2sat', 'zsatarag', 'bacc', 'chlcalc', 'chldiaz',\n",
       "        'chlpico', 'sf6', 'msftmyz', 'bddtalk', 'bddtdic', 'bddtdife',\n",
       "        'bddtdin', 'bddtdip', 'bddtdisi', 'fediss', 'phyp', 'talknat',\n",
       "        'cCwd', 'cfc11', 'msftmzsmpa', 'msftmrho', 'arag', 'treeFrac'],\n",
       "       dtype=object))"
      ]
     },
     "execution_count": 2,
     "metadata": {},
     "output_type": "execute_result"
    }
   ],
   "source": [
    "df.institution_id.unique(), df.variable_id.unique()"
   ]
  },
  {
   "cell_type": "markdown",
   "metadata": {
    "slideshow": {
     "slide_type": "subslide"
    }
   },
   "source": [
    "From here, we can search through the data using familiar `pandas` methodology:"
   ]
  },
  {
   "cell_type": "code",
   "execution_count": 3,
   "metadata": {
    "slideshow": {
     "slide_type": "fragment"
    }
   },
   "outputs": [
    {
     "data": {
      "text/html": [
       "<div>\n",
       "<style scoped>\n",
       "    .dataframe tbody tr th:only-of-type {\n",
       "        vertical-align: middle;\n",
       "    }\n",
       "\n",
       "    .dataframe tbody tr th {\n",
       "        vertical-align: top;\n",
       "    }\n",
       "\n",
       "    .dataframe thead th {\n",
       "        text-align: right;\n",
       "    }\n",
       "</style>\n",
       "<table border=\"1\" class=\"dataframe\">\n",
       "  <thead>\n",
       "    <tr style=\"text-align: right;\">\n",
       "      <th></th>\n",
       "      <th>activity_id</th>\n",
       "      <th>institution_id</th>\n",
       "      <th>source_id</th>\n",
       "      <th>experiment_id</th>\n",
       "      <th>member_id</th>\n",
       "      <th>table_id</th>\n",
       "      <th>variable_id</th>\n",
       "      <th>grid_label</th>\n",
       "      <th>zstore</th>\n",
       "      <th>dcpp_init_year</th>\n",
       "    </tr>\n",
       "  </thead>\n",
       "  <tbody>\n",
       "    <tr>\n",
       "      <th>343</th>\n",
       "      <td>CMIP</td>\n",
       "      <td>BCC</td>\n",
       "      <td>BCC-CSM2-MR</td>\n",
       "      <td>historical</td>\n",
       "      <td>r1i1p1f1</td>\n",
       "      <td>day</td>\n",
       "      <td>sfcWind</td>\n",
       "      <td>gn</td>\n",
       "      <td>gs://cmip6/CMIP/BCC/BCC-CSM2-MR/historical/r1i...</td>\n",
       "      <td>NaN</td>\n",
       "    </tr>\n",
       "    <tr>\n",
       "      <th>606</th>\n",
       "      <td>CMIP</td>\n",
       "      <td>BCC</td>\n",
       "      <td>BCC-ESM1</td>\n",
       "      <td>historical</td>\n",
       "      <td>r1i1p1f1</td>\n",
       "      <td>day</td>\n",
       "      <td>sfcWind</td>\n",
       "      <td>gn</td>\n",
       "      <td>gs://cmip6/CMIP/BCC/BCC-ESM1/historical/r1i1p1...</td>\n",
       "      <td>NaN</td>\n",
       "    </tr>\n",
       "    <tr>\n",
       "      <th>19235</th>\n",
       "      <td>ScenarioMIP</td>\n",
       "      <td>BCC</td>\n",
       "      <td>BCC-CSM2-MR</td>\n",
       "      <td>ssp245</td>\n",
       "      <td>r1i1p1f1</td>\n",
       "      <td>day</td>\n",
       "      <td>sfcWind</td>\n",
       "      <td>gn</td>\n",
       "      <td>gs://cmip6/ScenarioMIP/BCC/BCC-CSM2-MR/ssp245/...</td>\n",
       "      <td>NaN</td>\n",
       "    </tr>\n",
       "    <tr>\n",
       "      <th>19333</th>\n",
       "      <td>ScenarioMIP</td>\n",
       "      <td>BCC</td>\n",
       "      <td>BCC-CSM2-MR</td>\n",
       "      <td>ssp585</td>\n",
       "      <td>r1i1p1f1</td>\n",
       "      <td>day</td>\n",
       "      <td>sfcWind</td>\n",
       "      <td>gn</td>\n",
       "      <td>gs://cmip6/ScenarioMIP/BCC/BCC-CSM2-MR/ssp585/...</td>\n",
       "      <td>NaN</td>\n",
       "    </tr>\n",
       "  </tbody>\n",
       "</table>\n",
       "</div>"
      ],
      "text/plain": [
       "       activity_id institution_id    source_id experiment_id member_id  \\\n",
       "343           CMIP            BCC  BCC-CSM2-MR    historical  r1i1p1f1   \n",
       "606           CMIP            BCC     BCC-ESM1    historical  r1i1p1f1   \n",
       "19235  ScenarioMIP            BCC  BCC-CSM2-MR        ssp245  r1i1p1f1   \n",
       "19333  ScenarioMIP            BCC  BCC-CSM2-MR        ssp585  r1i1p1f1   \n",
       "\n",
       "      table_id variable_id grid_label  \\\n",
       "343        day     sfcWind         gn   \n",
       "606        day     sfcWind         gn   \n",
       "19235      day     sfcWind         gn   \n",
       "19333      day     sfcWind         gn   \n",
       "\n",
       "                                                  zstore  dcpp_init_year  \n",
       "343    gs://cmip6/CMIP/BCC/BCC-CSM2-MR/historical/r1i...             NaN  \n",
       "606    gs://cmip6/CMIP/BCC/BCC-ESM1/historical/r1i1p1...             NaN  \n",
       "19235  gs://cmip6/ScenarioMIP/BCC/BCC-CSM2-MR/ssp245/...             NaN  \n",
       "19333  gs://cmip6/ScenarioMIP/BCC/BCC-CSM2-MR/ssp585/...             NaN  "
      ]
     },
     "execution_count": 3,
     "metadata": {},
     "output_type": "execute_result"
    }
   ],
   "source": [
    "df_search = df[(df.institution_id == \"BCC\") & (df.variable_id == \"sfcWind\")]\n",
    "df_search"
   ]
  },
  {
   "cell_type": "markdown",
   "metadata": {
    "slideshow": {
     "slide_type": "subslide"
    }
   },
   "source": [
    "Once we have a suitable subset of the data which we would like to view in `xarray`, we can do so using `gcsfs`; first we must initialize a `GCSFileSystem` which connects us to Pangeo's cloud bucket:"
   ]
  },
  {
   "cell_type": "code",
   "execution_count": 20,
   "metadata": {
    "slideshow": {
     "slide_type": "fragment"
    }
   },
   "outputs": [
    {
     "data": {
      "text/plain": [
       "<gcsfs.core.GCSFileSystem at 0x7f58ec4bc048>"
      ]
     },
     "execution_count": 20,
     "metadata": {},
     "output_type": "execute_result"
    }
   ],
   "source": [
    "import gcsfs\n",
    "\n",
    "fs = gcsfs.GCSFileSystem(project='pangeo-181919', token='anon', access='read_only')\n",
    "fs"
   ]
  },
  {
   "cell_type": "markdown",
   "metadata": {
    "slideshow": {
     "slide_type": "subslide"
    }
   },
   "source": [
    "With the file system initialized, we can now use `fs.get_mapper` on any of the paths listed in `zstore` to get a mapping which can be opened in `xarray`:"
   ]
  },
  {
   "cell_type": "code",
   "execution_count": 5,
   "metadata": {
    "slideshow": {
     "slide_type": "fragment"
    }
   },
   "outputs": [
    {
     "data": {
      "text/plain": [
       "<xarray.Dataset>\n",
       "Dimensions:    (bnds: 2, lat: 160, lon: 320, time: 60225)\n",
       "Coordinates:\n",
       "    height     float64 ...\n",
       "  * lat        (lat) float64 -89.14 -88.03 -86.91 -85.79 ... 86.91 88.03 89.14\n",
       "    lat_bnds   (lat, bnds) float64 dask.array<shape=(160, 2), chunksize=(160, 2)>\n",
       "  * lon        (lon) float64 0.0 1.125 2.25 3.375 ... 355.5 356.6 357.8 358.9\n",
       "    lon_bnds   (lon, bnds) float64 dask.array<shape=(320, 2), chunksize=(320, 2)>\n",
       "  * time       (time) object 1850-01-01 12:00:00 ... 2014-12-31 12:00:00\n",
       "    time_bnds  (time, bnds) object dask.array<shape=(60225, 2), chunksize=(30113, 1)>\n",
       "Dimensions without coordinates: bnds\n",
       "Data variables:\n",
       "    sfcWind    (time, lat, lon) float32 dask.array<shape=(60225, 160, 320), chunksize=(600, 160, 320)>\n",
       "Attributes:\n",
       "    Conventions:            CF-1.7 CMIP-6.2\n",
       "    activity_id:            CMIP\n",
       "    branch_method:          Standard\n",
       "    branch_time_in_child:   0.0\n",
       "    branch_time_in_parent:  2289.0\n",
       "    cmor_version:           3.3.2\n",
       "    comment:                The model integration starts from the piControl e...\n",
       "    contact:                Dr. Tongwen Wu(twwu@cma.gov.cn)\n",
       "    creation_date:          2018-11-26T08:55:36Z\n",
       "    data_specs_version:     01.00.27\n",
       "    description:            DECK: historical\n",
       "    experiment:             all-forcing simulation of the recent past\n",
       "    experiment_id:          historical\n",
       "    external_variables:     areacella\n",
       "    forcing_index:          1\n",
       "    frequency:              day\n",
       "    further_info_url:       https://furtherinfo.es-doc.org/CMIP6.BCC.BCC-CSM2...\n",
       "    grid:                   T106\n",
       "    grid_label:             gn\n",
       "    history:                2018-11-26T08:55:19Z ; CMOR rewrote data to be co...\n",
       "    initialization_index:   1\n",
       "    institution:            Beijing Climate Center, Beijing 100081, China\n",
       "    institution_id:         BCC\n",
       "    license:                CMIP6 model data produced by BCC is licensed unde...\n",
       "    mip_era:                CMIP6\n",
       "    nominal_resolution:     100 km\n",
       "    parent_activity_id:     CMIP\n",
       "    parent_experiment_id:   piControl\n",
       "    parent_mip_era:         CMIP6\n",
       "    parent_source_id:       BCC-CSM2-MR\n",
       "    parent_time_units:      days since 1850-01-01\n",
       "    parent_variant_label:   r1i1p1f1\n",
       "    physics_index:          1\n",
       "    product:                model-output\n",
       "    realization_index:      1\n",
       "    realm:                  atmos\n",
       "    references:             Model described by Tongwen Wu et al. (JGR 2013; J...\n",
       "    run_variant:            forcing: greenhouse gases,solar constant,aerosol,...\n",
       "    source:                 BCC-CSM 2 MR (2017):   aerosol: none  atmos: BCC_...\n",
       "    source_id:              BCC-CSM2-MR\n",
       "    source_type:            AOGCM\n",
       "    sub_experiment:         none\n",
       "    sub_experiment_id:      none\n",
       "    table_id:               day\n",
       "    table_info:             Creation Date:(30 July 2018) MD5:e53ff52009d0b97d...\n",
       "    title:                  BCC-CSM2-MR output prepared for CMIP6\n",
       "    tracking_id:            hdl:21.14100/a660849c-7eb4-47c9-9e65-0e50c545830a...\n",
       "    variable_id:            sfcWind\n",
       "    variant_label:          r1i1p1f1"
      ]
     },
     "execution_count": 5,
     "metadata": {},
     "output_type": "execute_result"
    }
   ],
   "source": [
    "import xarray as xr\n",
    "\n",
    "store = df_search.zstore.values[0]\n",
    "mapper = fs.get_mapper(store)\n",
    "xr.open_zarr(mapper)"
   ]
  },
  {
   "cell_type": "markdown",
   "metadata": {
    "slideshow": {
     "slide_type": "slide"
    }
   },
   "source": [
    "## Using ESMCol in a Browser\n",
    "If we are unfamiliar with `pandas` or simply want to view the data outside of a Jupyter environment, we can do so using the [Pangeo Cloud Data Catalog](https://pangeo-data.github.io/pangeo-datastore/cmip6_pangeo.html)."
   ]
  },
  {
   "cell_type": "code",
   "execution_count": 1,
   "metadata": {
    "cell_style": "split",
    "slideshow": {
     "slide_type": "fragment"
    }
   },
   "outputs": [
    {
     "ename": "NameError",
     "evalue": "name 'pd' is not defined",
     "output_type": "error",
     "traceback": [
      "\u001b[0;31m---------------------------------------------------------------------------\u001b[0m",
      "\u001b[0;31mNameError\u001b[0m                                 Traceback (most recent call last)",
      "\u001b[0;32m<ipython-input-1-60360b8cadf3>\u001b[0m in \u001b[0;36m<module>\u001b[0;34m\u001b[0m\n\u001b[0;32m----> 1\u001b[0;31m \u001b[0mdf\u001b[0m \u001b[0;34m=\u001b[0m \u001b[0mpd\u001b[0m\u001b[0;34m.\u001b[0m\u001b[0mread_csv\u001b[0m\u001b[0;34m(\u001b[0m\u001b[0;34m\"export.csv\"\u001b[0m\u001b[0;34m)\u001b[0m\u001b[0;34m\u001b[0m\u001b[0;34m\u001b[0m\u001b[0m\n\u001b[0m\u001b[1;32m      2\u001b[0m \u001b[0mdf\u001b[0m\u001b[0;34m.\u001b[0m\u001b[0mhead\u001b[0m\u001b[0;34m(\u001b[0m\u001b[0;34m)\u001b[0m\u001b[0;34m\u001b[0m\u001b[0;34m\u001b[0m\u001b[0m\n",
      "\u001b[0;31mNameError\u001b[0m: name 'pd' is not defined"
     ]
    }
   ],
   "source": [
    "df = pd.read_csv(\"export.csv\")\n",
    "df.head()"
   ]
  },
  {
   "cell_type": "code",
   "execution_count": null,
   "metadata": {
    "cell_style": "split",
    "slideshow": {
     "slide_type": "fragment"
    }
   },
   "outputs": [],
   "source": [
    "store = df_search.zstore.values[0]\n",
    "mapper = fs.get_mapper(store)\n",
    "xr.open_zarr(mapper)"
   ]
  },
  {
   "cell_type": "markdown",
   "metadata": {
    "slideshow": {
     "slide_type": "slide"
    }
   },
   "source": [
    "## Where to go from here?\n",
    "The methods of cataloging data at Pangeo are changing rapidly!\n",
    "\n",
    "To keep up with this development, there are a variety of places to look:\n",
    "- Discussion and development on Intake can be viewed on its [Github repository](https://github.com/intake/intake).\n",
    "- Progress on ESMCol can be tracked at its [Github repository](https://github.com/NCAR/esm-collection-spec).\n",
    "- The entirety of Pangeo's Intake and ESMCol catalogs can be viewed at [https://pangeo-data.github.io/pangeo-datastore/](https://pangeo-data.github.io/pangeo-datastore/).\n",
    "- This presentation (and the interactive code blocks in it) can be viewed in a Binder at [https://github.com/charlesbluca/pangeo-catalogs](https://github.com/charlesbluca/pangeo-catalogs)."
   ]
  }
 ],
 "metadata": {
  "celltoolbar": "Slideshow",
  "kernelspec": {
   "display_name": "Python 3",
   "language": "python",
   "name": "python3"
  },
  "language_info": {
   "codemirror_mode": {
    "name": "ipython",
    "version": 3
   },
   "file_extension": ".py",
   "mimetype": "text/x-python",
   "name": "python",
   "nbconvert_exporter": "python",
   "pygments_lexer": "ipython3",
   "version": "3.7.3"
  }
 },
 "nbformat": 4,
 "nbformat_minor": 4
}
